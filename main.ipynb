{
 "cells": [
  {
   "cell_type": "markdown",
   "id": "a1085100",
   "metadata": {},
   "source": [
    "# Handheld Phone Detection"
   ]
  },
  {
   "cell_type": "markdown",
   "id": "2da773d3",
   "metadata": {},
   "source": [
    "- Imports"
   ]
  },
  {
   "cell_type": "code",
   "execution_count": null,
   "id": "8c6b4f08",
   "metadata": {},
   "outputs": [],
   "source": [
    "# !pip install -r requirements.txt\n",
    "\n",
    "import os, json, shutil, cv2, math, numpy as np, pandas as pd\n",
    "from pathlib import Path\n",
    "from shutil import copy2\n",
    "from tqdm import tqdm\n",
    "from sklearn.model_selection import train_test_split"
   ]
  },
  {
   "cell_type": "markdown",
   "id": "984647f4",
   "metadata": {},
   "source": [
    "- Download training set from kaggle"
   ]
  },
  {
   "cell_type": "code",
   "execution_count": null,
   "id": "85bff818",
   "metadata": {},
   "outputs": [],
   "source": [
    "# import kagglehub\n",
    "\n",
    "# # Download latest version\n",
    "# dataset_root = kagglehub.dataset_download(\"lakshyataragi/mobilephoneusagedatasetiitr\")\n",
    "\n",
    "# print(\"Path to dataset files:\", dataset_root)\n",
    "dataset_root = \"dataset/muid-iitr\""
   ]
  },
  {
   "cell_type": "markdown",
   "id": "0eeed6ae",
   "metadata": {},
   "source": [
    "- Structure files for YOLO training"
   ]
  },
  {
   "cell_type": "code",
   "execution_count": null,
   "id": "dfbe8a17",
   "metadata": {},
   "outputs": [],
   "source": [
    "pos_dir = f\"{dataset_root}/positive\"\n",
    "neg_dir = f\"{dataset_root}/negative\"\n",
    "csv_path = f\"{dataset_root}/labels.csv\"\n",
    "\n",
    "out_root = \"train_data/muid-iitr\"\n",
    "img_out  = Path(out_root)/\"images\"\n",
    "lbl_out  = Path(out_root)/\"labels\"\n",
    "\n",
    "# Output YOLO structure\n",
    "(img_out/\"train\").mkdir(parents=True, exist_ok=True)\n",
    "(img_out/\"val\").mkdir(parents=True, exist_ok=True)\n",
    "(lbl_out/\"train\").mkdir(parents=True, exist_ok=True)\n",
    "(lbl_out/\"val\").mkdir(parents=True, exist_ok=True)\n",
    "\n",
    "# load labels\n",
    "df = pd.read_csv(csv_path)\n",
    "\n",
    "from sklearn.model_selection import train_test_split\n",
    "all_files = list(Path(pos_dir).glob(\"*\")) + list(Path(neg_dir).glob(\"*\"))\n",
    "train_files, val_files = train_test_split(all_files, test_size=0.0, random_state=42)\n",
    "\n",
    "def process_split(files, split):\n",
    "    for img_path in files:\n",
    "        dst_img = img_out/split/img_path.name\n",
    "        copy2(img_path, dst_img)\n",
    "\n",
    "        # get label rows\n",
    "        rows = df[df.filename == img_path.name]\n",
    "        if len(rows) == 0:\n",
    "            # negative samples\n",
    "            open(lbl_out/split/(img_path.stem + \".txt\"), \"w\").close()\n",
    "        else:\n",
    "            W, H = rows.iloc[0].width, rows.iloc[0].height\n",
    "            lines = []\n",
    "            for _, r in rows.iterrows():\n",
    "                # convert to yolo format\n",
    "                x_center = (r.xmin + r.xmax)/2.0 / W\n",
    "                y_center = (r.ymin + r.ymax)/2.0 / H\n",
    "                w = (r.xmax - r.xmin) / W\n",
    "                h = (r.ymax - r.ymin) / H\n",
    "                lines.append(f\"0 {x_center:.6f} {y_center:.6f} {w:.6f} {h:.6f}\")\n",
    "            with open(lbl_out/split/(img_path.stem + \".txt\"), \"w\") as f:\n",
    "                f.write(\"\\n\".join(lines))\n",
    "\n",
    "process_split(train_files, \"train\")\n",
    "process_split(val_files, \"val\")\n",
    "print(\"Conversion done → YOLO format ready in dataset/yolo/\")"
   ]
  },
  {
   "cell_type": "markdown",
   "id": "74a4b43c",
   "metadata": {},
   "source": [
    "- Create YAML for YOLO training"
   ]
  },
  {
   "cell_type": "code",
   "execution_count": null,
   "id": "cb86f172",
   "metadata": {},
   "outputs": [],
   "source": [
    "import yaml\n",
    "\n",
    "data_yaml = {\n",
    "    \"path\": \"train_data/muid-iitr\",  # dataset root dir\n",
    "    \"train\": \"images/train\",\n",
    "    \"val\": \"images/val\",\n",
    "    \"names\": [\"phone\"]\n",
    "}\n",
    "with open(\"train_data/muid-iitr/data.yaml\",\"w\") as f:\n",
    "    yaml.safe_dump(data_yaml, f)\n",
    "\n",
    "print(open(\"train_data/muid-iitr/data.yaml\").read())"
   ]
  },
  {
   "cell_type": "code",
   "execution_count": null,
   "id": "6024449d",
   "metadata": {},
   "outputs": [],
   "source": [
    "from ultralytics import YOLO\n",
    "import torch\n",
    "\n",
    "print(\"Torch version:\", torch.__version__)"
   ]
  },
  {
   "cell_type": "markdown",
   "id": "3e50c071",
   "metadata": {},
   "source": [
    "- Start Training"
   ]
  },
  {
   "cell_type": "code",
   "execution_count": null,
   "id": "55dac4e9",
   "metadata": {},
   "outputs": [],
   "source": [
    "model = YOLO(\"yolov8n.pt\")  # start small for speed\n",
    "model.train(\n",
    "    data=\"train_data/muid-iitr/data.yaml\",\n",
    "    epochs=50,\n",
    "    imgsz=640,\n",
    "    batch=16,\n",
    "    device=0  # set to \"cpu\" if no GPU\n",
    ")\n",
    "\n",
    "# model = YOLO(\"runs/detect/train/weights/best.pt\")\n",
    "# model.train(data=\"train_data/muid-iitr/data.yaml\", epochs=10, imgsz=640, batch=16)"
   ]
  },
  {
   "cell_type": "markdown",
   "id": "6abaeaf4",
   "metadata": {},
   "source": [
    "- Run inference on test videos"
   ]
  },
  {
   "cell_type": "code",
   "execution_count": null,
   "id": "f7898880",
   "metadata": {},
   "outputs": [],
   "source": [
    "sources = [\n",
    "    \"test_videos/20250715_142638_e37e7821.mp4\",\n",
    "    \"test_videos/20250715_144536_9170ec05.mp4\",\n",
    "    \"test_videos/20250715_160539_6c132ed0.mp4\",\n",
    "    \"test_videos/20250715_173316_8cb090ab.mp4\",\n",
    "    \"test_videos/20250718_145802_46039155.mp4\",\n",
    "    \"test_videos/20250718_150650_075a44fc.mp4\"\n",
    "]\n",
    "\n",
    "for source in sources:\n",
    "    !python test.py {source} -w runs/detect/train/weights/best.pt -c 0.35 -o results"
   ]
  }
 ],
 "metadata": {
  "kernelspec": {
   "display_name": "yolo",
   "language": "python",
   "name": "python3"
  },
  "language_info": {
   "codemirror_mode": {
    "name": "ipython",
    "version": 3
   },
   "file_extension": ".py",
   "mimetype": "text/x-python",
   "name": "python",
   "nbconvert_exporter": "python",
   "pygments_lexer": "ipython3",
   "version": "3.10.18"
  }
 },
 "nbformat": 4,
 "nbformat_minor": 5
}
